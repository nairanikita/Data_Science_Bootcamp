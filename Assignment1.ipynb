{
  "nbformat": 4,
  "nbformat_minor": 0,
  "metadata": {
    "colab": {
      "provenance": []
    },
    "kernelspec": {
      "name": "python3",
      "display_name": "Python 3"
    },
    "language_info": {
      "name": "python"
    }
  },
  "cells": [
    {
      "cell_type": "code",
      "execution_count": null,
      "metadata": {
        "id": "wWsRfX6JnJUj"
      },
      "outputs": [],
      "source": []
    },
    {
      "cell_type": "markdown",
      "source": [
        "Take-Home Assignment"
      ],
      "metadata": {
        "id": "owHkrT36nVgS"
      }
    },
    {
      "cell_type": "markdown",
      "source": [
        "\n",
        "1.⁠Display Fibonacci Series upto 10 terms"
      ],
      "metadata": {
        "id": "pi3iThxlnjjV"
      }
    },
    {
      "cell_type": "code",
      "source": [
        "prev=0\n",
        "curr=1\n",
        "\n",
        "print(prev)\n",
        "print(curr)\n",
        "n=0\n",
        "while(n<8):\n",
        "\n",
        "  sum=curr+prev\n",
        "  prev=curr\n",
        "  curr=sum\n",
        "  print(sum)\n",
        "  n=n+1\n",
        ""
      ],
      "metadata": {
        "colab": {
          "base_uri": "https://localhost:8080/"
        },
        "id": "U3m1sa3HnXzZ",
        "outputId": "ca732caa-1293-4ab0-d3c1-a85661082f6f"
      },
      "execution_count": 2,
      "outputs": [
        {
          "output_type": "stream",
          "name": "stdout",
          "text": [
            "0\n",
            "1\n",
            "1\n",
            "2\n",
            "3\n",
            "5\n",
            "8\n",
            "13\n",
            "21\n",
            "34\n"
          ]
        }
      ]
    },
    {
      "cell_type": "markdown",
      "source": [
        "2.⁠ ⁠Display numbers at the odd indices of a list"
      ],
      "metadata": {
        "id": "aZnSLtg8D_LW"
      }
    },
    {
      "cell_type": "code",
      "source": [
        "import numpy as np\n",
        "import pandas as pd\n",
        "l=np.random.randint(20,size=10)\n",
        "l[::2]"
      ],
      "metadata": {
        "colab": {
          "base_uri": "https://localhost:8080/"
        },
        "id": "EfpD2rtND-Q3",
        "outputId": "c7de1302-6992-4b09-ab1f-eb9c8c9f32f6"
      },
      "execution_count": 5,
      "outputs": [
        {
          "output_type": "execute_result",
          "data": {
            "text/plain": [
              "array([14, 14,  5,  6,  2])"
            ]
          },
          "metadata": {},
          "execution_count": 5
        }
      ]
    },
    {
      "cell_type": "markdown",
      "source": [
        "string = \"\"\"\n",
        "\n",
        "I have provided this text to provide tips on creating interesting paragraphs.\n",
        "\n",
        "First, start with a clear topic sentence that introduces the main idea.\n",
        "\n",
        "Then, support the topic sentence with specific details, examples, and evidence.\n",
        "\n",
        "Vary the sentence length and structure to keep the reader engaged.\n",
        "\n",
        "Finally, end with a strong concluding sentence that summarizes the main points.\n",
        "\n",
        "Remember, practice makes perfect!\n",
        "\n",
        "\"\"\"\n",
        "\n",
        "#Your task is to count the number of different words in this text"
      ],
      "metadata": {
        "id": "BjNy6gqvLj1X"
      }
    },
    {
      "cell_type": "code",
      "source": [
        "\n",
        "import re\n",
        "string = \"\"\"\n",
        "\n",
        "I have provided this text to provide tips on creating interesting paragraphs.\n",
        "\n",
        "First, start with a clear topic sentence that introduces the main idea.\n",
        "\n",
        "Then, support the topic sentence with specific details, examples, and evidence.\n",
        "\n",
        "Vary the sentence length and structure to keep the reader engaged.\n",
        "\n",
        "Finally, end with a strong concluding sentence that summarizes the main points.\n",
        "\n",
        "Remember, practice makes perfect!\n",
        "\n",
        "\"\"\"\n",
        "arr=re.split(r'[\" \",\\n]',string)\n",
        "newlist=[]\n",
        "for a in arr:\n",
        "  if a in newlist:\n",
        "    continue\n",
        "  else:\n",
        "    newlist.append(a)\n",
        "\n",
        "print(len(newlist))"
      ],
      "metadata": {
        "colab": {
          "base_uri": "https://localhost:8080/"
        },
        "id": "xPVwc6UOD-N6",
        "outputId": "22dadc60-afb1-4fba-cef8-b85350780d9f"
      },
      "execution_count": 15,
      "outputs": [
        {
          "output_type": "stream",
          "name": "stdout",
          "text": [
            "48\n"
          ]
        }
      ]
    },
    {
      "cell_type": "markdown",
      "source": [
        "4.⁠ ⁠Write a function count_vowels(word) that takes a word as an argument and returns the number of vowels in the word"
      ],
      "metadata": {
        "id": "8Yh0XdN8ObhN"
      }
    },
    {
      "cell_type": "code",
      "source": [
        "def count_vowels(word):\n",
        "  vowels=['a','e','i','o','u']\n",
        "  word=word.lower()\n",
        "  count=0\n",
        "  for a in word:\n",
        "    if a in vowels:\n",
        "      count=count+1\n",
        "  return count\n",
        "\n",
        "count_vowels(\"Amo\")"
      ],
      "metadata": {
        "colab": {
          "base_uri": "https://localhost:8080/"
        },
        "id": "yVg-_DdSD-K2",
        "outputId": "cb9d5c21-ead2-41ee-8ee7-dd7327c3ce5d"
      },
      "execution_count": 27,
      "outputs": [
        {
          "output_type": "execute_result",
          "data": {
            "text/plain": [
              "2"
            ]
          },
          "metadata": {},
          "execution_count": 27
        }
      ]
    },
    {
      "cell_type": "markdown",
      "source": [
        " ⁠Iterate through the following list of animals and print each one in all caps.\n",
        "\n",
        "animals=['tiger', 'elephant', 'monkey', 'zebra', 'panther']"
      ],
      "metadata": {
        "id": "lZ4BGS7iQwMu"
      }
    },
    {
      "cell_type": "code",
      "source": [
        "animals=['tiger', 'elephant', 'monkey', 'zebra', 'panther']\n",
        "for a in animals:\n",
        "  print(a.upper())\n"
      ],
      "metadata": {
        "colab": {
          "base_uri": "https://localhost:8080/"
        },
        "id": "XJsHOxdGD-HD",
        "outputId": "c4a5f3e7-d8fc-44fb-db32-bd60f353595d"
      },
      "execution_count": 20,
      "outputs": [
        {
          "output_type": "stream",
          "name": "stdout",
          "text": [
            "TIGER\n",
            "ELEPHANT\n",
            "MONKEY\n",
            "ZEBRA\n",
            "PANTHER\n"
          ]
        }
      ]
    },
    {
      "cell_type": "markdown",
      "source": [
        "Write a program that iterates from 1 to 20, printing each number and whether it's odd or even."
      ],
      "metadata": {
        "id": "ik-WeSgKQwzj"
      }
    },
    {
      "cell_type": "code",
      "source": [
        "for i in range(1,21):\n",
        "  if(i%2==0):\n",
        "    print(i,\"Even\")\n",
        "  else:\n",
        "    print(i,\"Odd\")\n"
      ],
      "metadata": {
        "colab": {
          "base_uri": "https://localhost:8080/"
        },
        "id": "UVYJE8K4D-C-",
        "outputId": "0a1618f8-324d-4e06-d38e-d0f024f6f8ce"
      },
      "execution_count": 22,
      "outputs": [
        {
          "output_type": "stream",
          "name": "stdout",
          "text": [
            "1 Odd\n",
            "2 Even\n",
            "3 Odd\n",
            "4 Even\n",
            "5 Odd\n",
            "6 Even\n",
            "7 Odd\n",
            "8 Even\n",
            "9 Odd\n",
            "10 Even\n",
            "11 Odd\n",
            "12 Even\n",
            "13 Odd\n",
            "14 Even\n",
            "15 Odd\n",
            "16 Even\n",
            "17 Odd\n",
            "18 Even\n",
            "19 Odd\n",
            "20 Even\n"
          ]
        }
      ]
    },
    {
      "cell_type": "markdown",
      "source": [
        "Write a function sum_of_integers(a, b) that takes two integers as input from the user and returns their sum.\n"
      ],
      "metadata": {
        "id": "MU7cJBBGQ8xe"
      }
    },
    {
      "cell_type": "code",
      "source": [
        "def sum_of_integers(a, b):\n",
        "  return a+b\n",
        "sum=sum_of_integers(5,7)\n",
        "print(sum)"
      ],
      "metadata": {
        "colab": {
          "base_uri": "https://localhost:8080/"
        },
        "id": "rl16rnE6D9-K",
        "outputId": "ee817c26-dd31-44a6-9455-1f99d543481d"
      },
      "execution_count": 25,
      "outputs": [
        {
          "output_type": "stream",
          "name": "stdout",
          "text": [
            "12\n"
          ]
        }
      ]
    },
    {
      "cell_type": "code",
      "source": [],
      "metadata": {
        "id": "GJK6Ss4ZD92f"
      },
      "execution_count": null,
      "outputs": []
    }
  ]
}